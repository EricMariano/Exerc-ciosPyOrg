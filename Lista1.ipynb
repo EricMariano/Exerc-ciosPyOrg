{
 "cells": [
  {
   "cell_type": "code",
   "execution_count": 2,
   "metadata": {},
   "outputs": [
    {
     "name": "stdout",
     "output_type": "stream",
     "text": [
      "Alo mundo\n"
     ]
    }
   ],
   "source": [
    "#1\n",
    "print('Alo mundo')"
   ]
  },
  {
   "cell_type": "code",
   "execution_count": null,
   "metadata": {},
   "outputs": [
    {
     "name": "stdout",
     "output_type": "stream",
     "text": [
      "6\n"
     ]
    }
   ],
   "source": [
    "#2\n",
    "n = input('Digite um número: ')\n",
    "print(n)"
   ]
  },
  {
   "cell_type": "code",
   "execution_count": null,
   "metadata": {},
   "outputs": [
    {
     "name": "stdout",
     "output_type": "stream",
     "text": [
      "Vamos somar!\n",
      "10.0 + 8.0 = 18.0\n"
     ]
    }
   ],
   "source": [
    "#3\n",
    "print('Vamos somar!')\n",
    "n1 = float(input('Digite um número: '))\n",
    "n2 = float(input('Digite outro número: '))\n",
    "soma = n1 + n2\n",
    "\n",
    "print(f'{n1} + {n2} = {soma}')\n",
    "\n"
   ]
  },
  {
   "cell_type": "code",
   "execution_count": 8,
   "metadata": {},
   "outputs": [
    {
     "name": "stdout",
     "output_type": "stream",
     "text": [
      "Sua média do primeiro semestre foi 6.5 e a sua média do segundo semestre foi 5.0 e sua média geral foi 5.8\n"
     ]
    }
   ],
   "source": [
    "#4\n",
    "n1 = float(input('Digite sua primeira nota: '))\n",
    "n2 = float(input('Digite sua segunda nota: '))\n",
    "n3 = float(input('Digite sua terceira nota: '))\n",
    "n4 = float(input('Digite sua quarta nota: '))\n",
    "\n",
    "media1 = (n1 + n2) / 2\n",
    "media2 = (n3 + n4) / 2\n",
    "mediageral = (n1 + n2 + n3 + n4) / 4\n",
    "\n",
    "print(f'Sua média do primeiro semestre foi {media1:.1f} e a sua média do segundo semestre foi {media2:.1f} e sua média geral foi {mediageral:.1f}')"
   ]
  },
  {
   "cell_type": "code",
   "execution_count": null,
   "metadata": {},
   "outputs": [
    {
     "name": "stdout",
     "output_type": "stream",
     "text": [
      "1.0m em cm é equivalente a 100.0cm\n"
     ]
    }
   ],
   "source": [
    "#5\n",
    "m = float(input('Digite um número em metros para ser convertido em cm'))\n",
    "cm = m * 100 \n",
    "\n",
    "print(f'{m}m em cm é equivalente a {cm}cm')"
   ]
  },
  {
   "cell_type": "code",
   "execution_count": null,
   "metadata": {},
   "outputs": [
    {
     "name": "stdout",
     "output_type": "stream",
     "text": [
      "Área do circulo aproximada!\n",
      "A área do circulo pedido é de 34.54cm\n"
     ]
    }
   ],
   "source": [
    "#6 bizú A=πr2\n",
    "raio = float(input('Digite o raio do circulo em cm: '))\n",
    "area = 3.14 * raio *2\n",
    "\n",
    "print(f'A área aproximada do circulo pedido é de {area:.2f}cm')"
   ]
  },
  {
   "cell_type": "code",
   "execution_count": null,
   "metadata": {},
   "outputs": [
    {
     "name": "stdout",
     "output_type": "stream",
     "text": [
      "A área do quadrado dado é 36.0cm e o seu dobro é de 72.0cm\n"
     ]
    }
   ],
   "source": [
    "#7 Faça um Programa que calcule a área de um quadrado, em seguida mostre o dobro desta área para o usuário.\n",
    "lado = float(input('Digite o lado do quadrado em cm: '))\n",
    "area = lado ** 2\n",
    "area2 = area * 2\n",
    "\n",
    "print(f'A área do quadrado dado é {area:.1f}cm e o seu dobro é de {area2}cm')\n",
    "\n"
   ]
  },
  {
   "cell_type": "code",
   "execution_count": 29,
   "metadata": {
    "slideshow": {
     "slide_type": "subslide"
    }
   },
   "outputs": [
    {
     "name": "stdout",
     "output_type": "stream",
     "text": [
      "Seu salário mês é de R$5280.0\n"
     ]
    }
   ],
   "source": [
    "#8 Faça um Programa que pergunte quanto você ganha por hora e o número de horas trabalhadas no mês. Calcule e mostre o total do seu salário no referido mês.\n",
    "dinhora = float(input('Informe quanto você ganha por hora: '))\n",
    "horames = float(input('Informe quantas horas você trabalha por mês: '))\n",
    "salario = dinhora * horames\n",
    "\n",
    "print(f'Seu salário mês é de R${salario}')"
   ]
  },
  {
   "cell_type": "code",
   "execution_count": 2,
   "metadata": {},
   "outputs": [
    {
     "name": "stdout",
     "output_type": "stream",
     "text": [
      "A temperatura em graus Celsius é de 21.7\n"
     ]
    }
   ],
   "source": [
    "#9 Faça um Programa que peça a temperatura em graus Fahrenheit, transforme e mostre a temperatura em graus Celsius.\n",
    "#C = 5 * ((F-32) / 9).\n",
    "\n",
    "fah = float(input('Informe a temperatura graus em Fahrenheit: '))\n",
    "c =  5 * ((fah-32) / 9)\n",
    "\n",
    "print(f'A temperatura em graus Celsius é de {c:.1f}')"
   ]
  },
  {
   "cell_type": "code",
   "execution_count": 1,
   "metadata": {},
   "outputs": [
    {
     "name": "stdout",
     "output_type": "stream",
     "text": [
      "A temperatura em graus Fahrenheit é de 75.2\n"
     ]
    }
   ],
   "source": [
    "#10 Faça um Programa que peça a temperatura em graus Celsius, transforme e mostre em graus Fahrenheit.\n",
    "c = float(input('Informe a temperatura em grau Celsius: '))\n",
    "fah = (c * 1.8) + 32\n",
    "\n",
    "print(f'A temperatura em graus Fahrenheit é de {fah:.1f}')"
   ]
  },
  {
   "cell_type": "code",
   "execution_count": 37,
   "metadata": {},
   "outputs": [
    {
     "name": "stdout",
     "output_type": "stream",
     "text": [
      "A = 30.0, b = 54.03, c = 13875.9\n"
     ]
    }
   ],
   "source": [
    "#11 Faça um Programa que peça 2 números inteiros e um número real. Calcule e mostre:\n",
    "# o produto do dobro do primeiro com metade do segundo .\n",
    "# a soma do triplo do primeiro com o terceiro.\n",
    "# o terceiro elevado ao cubo.\n",
    "n1int = float(input('Digite um número inteiro: '))\n",
    "n2int = float(input('Digite outro número inteiro: '))\n",
    "nreal = float(input('Agora, digite um número real: '))\n",
    "\n",
    "a = (n1int * 2) + (n2int / 2)\n",
    "b = (n1int * 3) + nreal\n",
    "c = nreal **3\n",
    "\n",
    "print(f'A = {a}, b = {b}, c = {c:.1f}')"
   ]
  },
  {
   "cell_type": "code",
   "execution_count": null,
   "metadata": {},
   "outputs": [],
   "source": [
    "#12\n"
   ]
  }
 ],
 "metadata": {
  "kernelspec": {
   "display_name": "Python 3",
   "language": "python",
   "name": "python3"
  },
  "language_info": {
   "codemirror_mode": {
    "name": "ipython",
    "version": 3
   },
   "file_extension": ".py",
   "mimetype": "text/x-python",
   "name": "python",
   "nbconvert_exporter": "python",
   "pygments_lexer": "ipython3",
   "version": "3.12.4"
  }
 },
 "nbformat": 4,
 "nbformat_minor": 2
}
